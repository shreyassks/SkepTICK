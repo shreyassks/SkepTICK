{
 "cells": [
  {
   "cell_type": "code",
   "execution_count": 2,
   "metadata": {},
   "outputs": [],
   "source": [
    "import random\n",
    "import networkx as nx\n",
    "import pandas as pd\n",
    "import matplotlib.pyplot as plt"
   ]
  },
  {
   "cell_type": "code",
   "execution_count": 3,
   "metadata": {},
   "outputs": [],
   "source": [
    "df = pd.read_csv(\"Data/graph_extractor.csv\")"
   ]
  },
  {
   "cell_type": "code",
   "execution_count": 4,
   "metadata": {},
   "outputs": [
    {
     "data": {
      "text/html": [
       "<div>\n",
       "<style scoped>\n",
       "    .dataframe tbody tr th:only-of-type {\n",
       "        vertical-align: middle;\n",
       "    }\n",
       "\n",
       "    .dataframe tbody tr th {\n",
       "        vertical-align: top;\n",
       "    }\n",
       "\n",
       "    .dataframe thead th {\n",
       "        text-align: right;\n",
       "    }\n",
       "</style>\n",
       "<table border=\"1\" class=\"dataframe\">\n",
       "  <thead>\n",
       "    <tr style=\"text-align: right;\">\n",
       "      <th></th>\n",
       "      <th>ticker</th>\n",
       "      <th>recommendation</th>\n",
       "      <th>target_achieve_duration</th>\n",
       "      <th>Author</th>\n",
       "      <th>Publish Date</th>\n",
       "    </tr>\n",
       "  </thead>\n",
       "  <tbody>\n",
       "    <tr>\n",
       "      <th>0</th>\n",
       "      <td>gtbl</td>\n",
       "      <td>buy</td>\n",
       "      <td>3 years</td>\n",
       "      <td>Rahul Jain</td>\n",
       "      <td>2023-07-30</td>\n",
       "    </tr>\n",
       "    <tr>\n",
       "      <th>1</th>\n",
       "      <td>sbin</td>\n",
       "      <td>buy</td>\n",
       "      <td>3 years</td>\n",
       "      <td>Rahul Jain</td>\n",
       "      <td>2023-06-18</td>\n",
       "    </tr>\n",
       "    <tr>\n",
       "      <th>2</th>\n",
       "      <td>itc</td>\n",
       "      <td>buy</td>\n",
       "      <td>3 years</td>\n",
       "      <td>Rahul Jain</td>\n",
       "      <td>2023-06-18</td>\n",
       "    </tr>\n",
       "    <tr>\n",
       "      <th>3</th>\n",
       "      <td>tcs</td>\n",
       "      <td>buy</td>\n",
       "      <td>3 years</td>\n",
       "      <td>Rahul Jain</td>\n",
       "      <td>2023-06-18</td>\n",
       "    </tr>\n",
       "    <tr>\n",
       "      <th>4</th>\n",
       "      <td>TCS</td>\n",
       "      <td>buy</td>\n",
       "      <td>3 years</td>\n",
       "      <td>Rahul Jain</td>\n",
       "      <td>2023-08-09</td>\n",
       "    </tr>\n",
       "  </tbody>\n",
       "</table>\n",
       "</div>"
      ],
      "text/plain": [
       "  ticker recommendation target_achieve_duration      Author Publish Date\n",
       "0   gtbl            buy                 3 years  Rahul Jain   2023-07-30\n",
       "1   sbin            buy                 3 years  Rahul Jain   2023-06-18\n",
       "2    itc            buy                 3 years  Rahul Jain   2023-06-18\n",
       "3    tcs            buy                 3 years  Rahul Jain   2023-06-18\n",
       "4    TCS            buy                 3 years  Rahul Jain   2023-08-09"
      ]
     },
     "execution_count": 4,
     "metadata": {},
     "output_type": "execute_result"
    }
   ],
   "source": [
    "df.head()"
   ]
  },
  {
   "cell_type": "code",
   "execution_count": 5,
   "metadata": {},
   "outputs": [],
   "source": [
    "df_new = df.copy()"
   ]
  },
  {
   "cell_type": "code",
   "execution_count": 6,
   "metadata": {},
   "outputs": [],
   "source": [
    "def binary(x):\n",
    "    if x == \"buy\":\n",
    "        return 0\n",
    "    else:\n",
    "        return 1"
   ]
  },
  {
   "cell_type": "code",
   "execution_count": 7,
   "metadata": {},
   "outputs": [],
   "source": [
    "df_new[\"ticker\"] = df_new[\"ticker\"].apply(lambda x: x.upper())\n",
    "df_new[\"binary_recommendation\"] = df_new[\"recommendation\"].apply(lambda x: binary(x))\n",
    "df_new[\"correctness\"] = [random.random() for i in range(len(df))]"
   ]
  },
  {
   "cell_type": "code",
   "execution_count": 8,
   "metadata": {},
   "outputs": [
    {
     "data": {
      "text/html": [
       "<div>\n",
       "<style scoped>\n",
       "    .dataframe tbody tr th:only-of-type {\n",
       "        vertical-align: middle;\n",
       "    }\n",
       "\n",
       "    .dataframe tbody tr th {\n",
       "        vertical-align: top;\n",
       "    }\n",
       "\n",
       "    .dataframe thead th {\n",
       "        text-align: right;\n",
       "    }\n",
       "</style>\n",
       "<table border=\"1\" class=\"dataframe\">\n",
       "  <thead>\n",
       "    <tr style=\"text-align: right;\">\n",
       "      <th></th>\n",
       "      <th>ticker</th>\n",
       "      <th>recommendation</th>\n",
       "      <th>target_achieve_duration</th>\n",
       "      <th>Author</th>\n",
       "      <th>Publish Date</th>\n",
       "      <th>binary_recommendation</th>\n",
       "      <th>correctness</th>\n",
       "    </tr>\n",
       "  </thead>\n",
       "  <tbody>\n",
       "    <tr>\n",
       "      <th>0</th>\n",
       "      <td>GTBL</td>\n",
       "      <td>buy</td>\n",
       "      <td>3 years</td>\n",
       "      <td>Rahul Jain</td>\n",
       "      <td>2023-07-30</td>\n",
       "      <td>0</td>\n",
       "      <td>0.288852</td>\n",
       "    </tr>\n",
       "    <tr>\n",
       "      <th>1</th>\n",
       "      <td>SBIN</td>\n",
       "      <td>buy</td>\n",
       "      <td>3 years</td>\n",
       "      <td>Rahul Jain</td>\n",
       "      <td>2023-06-18</td>\n",
       "      <td>0</td>\n",
       "      <td>0.523625</td>\n",
       "    </tr>\n",
       "    <tr>\n",
       "      <th>2</th>\n",
       "      <td>ITC</td>\n",
       "      <td>buy</td>\n",
       "      <td>3 years</td>\n",
       "      <td>Rahul Jain</td>\n",
       "      <td>2023-06-18</td>\n",
       "      <td>0</td>\n",
       "      <td>0.044493</td>\n",
       "    </tr>\n",
       "    <tr>\n",
       "      <th>3</th>\n",
       "      <td>TCS</td>\n",
       "      <td>buy</td>\n",
       "      <td>3 years</td>\n",
       "      <td>Rahul Jain</td>\n",
       "      <td>2023-06-18</td>\n",
       "      <td>0</td>\n",
       "      <td>0.556817</td>\n",
       "    </tr>\n",
       "    <tr>\n",
       "      <th>4</th>\n",
       "      <td>TCS</td>\n",
       "      <td>buy</td>\n",
       "      <td>3 years</td>\n",
       "      <td>Rahul Jain</td>\n",
       "      <td>2023-08-09</td>\n",
       "      <td>0</td>\n",
       "      <td>0.682738</td>\n",
       "    </tr>\n",
       "  </tbody>\n",
       "</table>\n",
       "</div>"
      ],
      "text/plain": [
       "  ticker recommendation target_achieve_duration      Author Publish Date  \\\n",
       "0   GTBL            buy                 3 years  Rahul Jain   2023-07-30   \n",
       "1   SBIN            buy                 3 years  Rahul Jain   2023-06-18   \n",
       "2    ITC            buy                 3 years  Rahul Jain   2023-06-18   \n",
       "3    TCS            buy                 3 years  Rahul Jain   2023-06-18   \n",
       "4    TCS            buy                 3 years  Rahul Jain   2023-08-09   \n",
       "\n",
       "   binary_recommendation  correctness  \n",
       "0                      0     0.288852  \n",
       "1                      0     0.523625  \n",
       "2                      0     0.044493  \n",
       "3                      0     0.556817  \n",
       "4                      0     0.682738  "
      ]
     },
     "execution_count": 8,
     "metadata": {},
     "output_type": "execute_result"
    }
   ],
   "source": [
    "df_new.head()"
   ]
  },
  {
   "cell_type": "code",
   "execution_count": 9,
   "metadata": {},
   "outputs": [],
   "source": [
    "f = df[\"ticker\"].unique().tolist()\n",
    "company_names = list(set([i.upper() for i in f]))\n",
    "author_names = df[\"Author\"].unique().tolist()\n",
    "correctness = [random.random() for i in range(len(df))]\n",
    "dates = df[\"Publish Date\"].tolist()"
   ]
  },
  {
   "cell_type": "code",
   "execution_count": 10,
   "metadata": {},
   "outputs": [
    {
     "data": {
      "text/plain": [
       "(54, 3)"
      ]
     },
     "execution_count": 10,
     "metadata": {},
     "output_type": "execute_result"
    }
   ],
   "source": [
    "len(company_names), len(author_names)"
   ]
  },
  {
   "cell_type": "code",
   "execution_count": 11,
   "metadata": {},
   "outputs": [],
   "source": [
    "G = nx.from_pandas_edgelist(df_new, source = 'Author', target = 'ticker', edge_attr = 'correctness')"
   ]
  },
  {
   "cell_type": "code",
   "execution_count": 12,
   "metadata": {},
   "outputs": [
    {
     "data": {
      "text/plain": [
       "(NodeView(('Rahul Jain', 'GTBL', 'SBIN', 'ITC', 'TCS', 'HCL', 'SUN PHARMACEUTICAL', 'CIPLA', \"DR REDDY'S LABORATORY\", 'BHARAT ELECTRONICS LIMITED', 'Akshat Shrivastava', 'HDFC', 'AAPL', 'Sahil Bhadviya', 'KPIT', 'FLINDIA', 'MAPMYINDIA', 'DIXON', 'MTAR', 'IDFCFIRST', 'GOKULD', 'AVAS', 'PRAJ', 'NEWGEN', 'GARWARE', 'GMM', 'SUPRAJIT', 'MOLDTEK', 'AMRUTANJAN', 'GALAXY', 'FINEORGANICS', 'ALKYLAMINE', 'PAUSHAK', 'MASFINANCIAL', 'AVASFINANCIAL', 'TARSONS', 'VIJAYADIAGNOSTIC', 'HOMEFIRST', 'PRUDENT', 'ULTRAMARINE', 'VMART', 'ICICI', 'KOTAK MAHINDRA', 'AVAS FINANCIALS', 'SBI CARDS', 'RAJESH EXPORTS', 'UI PATH', 'G1 SMALL FINANCE', 'DICK JAM', 'ADHINATH TEXTILES', 'PRIDECOM GROUP', 'CEREBRAL INTEGRATED', 'NGL FINE CHEMICAL', 'JUTI RESINS', 'RELIANCE', 'RELAXO', 'BATA')),\n",
       " EdgeView([('Rahul Jain', 'GTBL'), ('Rahul Jain', 'SBIN'), ('Rahul Jain', 'ITC'), ('Rahul Jain', 'TCS'), ('Rahul Jain', 'HCL'), ('Rahul Jain', 'SUN PHARMACEUTICAL'), ('Rahul Jain', 'CIPLA'), ('Rahul Jain', \"DR REDDY'S LABORATORY\"), ('Rahul Jain', 'BHARAT ELECTRONICS LIMITED'), ('Akshat Shrivastava', 'HDFC'), ('Akshat Shrivastava', 'AAPL'), ('Akshat Shrivastava', 'ICICI'), ('Akshat Shrivastava', 'KOTAK MAHINDRA'), ('Akshat Shrivastava', 'AVAS FINANCIALS'), ('Akshat Shrivastava', 'SBI CARDS'), ('Akshat Shrivastava', 'RAJESH EXPORTS'), ('Akshat Shrivastava', 'UI PATH'), ('Akshat Shrivastava', 'G1 SMALL FINANCE'), ('Akshat Shrivastava', 'DICK JAM'), ('Akshat Shrivastava', 'ADHINATH TEXTILES'), ('Akshat Shrivastava', 'PRIDECOM GROUP'), ('Akshat Shrivastava', 'CEREBRAL INTEGRATED'), ('Akshat Shrivastava', 'NGL FINE CHEMICAL'), ('Akshat Shrivastava', 'JUTI RESINS'), ('Akshat Shrivastava', 'RELIANCE'), ('Akshat Shrivastava', 'RELAXO'), ('Akshat Shrivastava', 'BATA'), ('Sahil Bhadviya', 'KPIT'), ('Sahil Bhadviya', 'FLINDIA'), ('Sahil Bhadviya', 'MAPMYINDIA'), ('Sahil Bhadviya', 'DIXON'), ('Sahil Bhadviya', 'MTAR'), ('Sahil Bhadviya', 'IDFCFIRST'), ('Sahil Bhadviya', 'GOKULD'), ('Sahil Bhadviya', 'AVAS'), ('Sahil Bhadviya', 'PRAJ'), ('Sahil Bhadviya', 'NEWGEN'), ('Sahil Bhadviya', 'GARWARE'), ('Sahil Bhadviya', 'GMM'), ('Sahil Bhadviya', 'SUPRAJIT'), ('Sahil Bhadviya', 'MOLDTEK'), ('Sahil Bhadviya', 'AMRUTANJAN'), ('Sahil Bhadviya', 'GALAXY'), ('Sahil Bhadviya', 'FINEORGANICS'), ('Sahil Bhadviya', 'ALKYLAMINE'), ('Sahil Bhadviya', 'PAUSHAK'), ('Sahil Bhadviya', 'MASFINANCIAL'), ('Sahil Bhadviya', 'AVASFINANCIAL'), ('Sahil Bhadviya', 'TARSONS'), ('Sahil Bhadviya', 'VIJAYADIAGNOSTIC'), ('Sahil Bhadviya', 'HOMEFIRST'), ('Sahil Bhadviya', 'PRUDENT'), ('Sahil Bhadviya', 'ULTRAMARINE'), ('Sahil Bhadviya', 'VMART')]))"
      ]
     },
     "execution_count": 12,
     "metadata": {},
     "output_type": "execute_result"
    }
   ],
   "source": [
    "G.nodes, G.edges"
   ]
  },
  {
   "cell_type": "code",
   "execution_count": 22,
   "metadata": {},
   "outputs": [
    {
     "data": {
      "text/plain": [
       "[]"
      ]
     },
     "execution_count": 22,
     "metadata": {},
     "output_type": "execute_result"
    },
    {
     "data": {
      "image/png": "[encoded data removed]",
      "text/plain": [
       "<Figure size 500x500 with 1 Axes>"
      ]
     },
     "metadata": {},
     "output_type": "display_data"
    }
   ],
   "source": [
    "plt.figure(figsize=(5,5)) \n",
    "nx.draw_networkx(G,\n",
    "    pos = nx.kamada_kawai_layout(G, weight = 'correctness'), \n",
    "    node_size = 700,\n",
    "    node_color = \"green\",\n",
    "    width = [G.edges[e]['correctness'] for e in G.edges],\n",
    "    with_labels = True)\n",
    "plt.plot()"
   ]
  },
  {
   "cell_type": "code",
   "execution_count": null,
   "metadata": {},
   "outputs": [],
   "source": []
  }
 ],
 "metadata": {
  "kernelspec": {
   "display_name": "Python 3",
   "language": "python",
   "name": "python3"
  },
  "language_info": {
   "codemirror_mode": {
    "name": "ipython",
    "version": 3
   },
   "file_extension": ".py",
   "mimetype": "text/x-python",
   "name": "python",
   "nbconvert_exporter": "python",
   "pygments_lexer": "ipython3",
   "version": "3.10.10"
  },
  "orig_nbformat": 4
 },
 "nbformat": 4,
 "nbformat_minor": 2
}
