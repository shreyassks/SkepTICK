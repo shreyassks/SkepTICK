{
 "cells": [
  {
   "cell_type": "code",
   "execution_count": 2,
   "metadata": {},
   "outputs": [],
   "source": [
    "import pandas as pd"
   ]
  },
  {
   "cell_type": "code",
   "execution_count": 5,
   "metadata": {},
   "outputs": [],
   "source": [
    "dataset = pd.read_csv('Data/graph_extractor_float.csv')"
   ]
  },
  {
   "cell_type": "code",
   "execution_count": 7,
   "metadata": {},
   "outputs": [
    {
     "name": "stdout",
     "output_type": "stream",
     "text": [
      "<class 'pandas.core.frame.DataFrame'>\n",
      "RangeIndex: 57 entries, 0 to 56\n",
      "Data columns (total 6 columns):\n",
      " #   Column                 Non-Null Count  Dtype  \n",
      "---  ------                 --------------  -----  \n",
      " 0   ticker                 57 non-null     object \n",
      " 1   recommendation         57 non-null     object \n",
      " 2   target_duration_years  57 non-null     float64\n",
      " 3   YouTuber               57 non-null     object \n",
      " 4   Publish Date           57 non-null     object \n",
      " 5   Accuracy               57 non-null     float64\n",
      "dtypes: float64(2), object(4)\n",
      "memory usage: 2.8+ KB\n"
     ]
    }
   ],
   "source": [
    "dataset.info()"
   ]
  },
  {
   "cell_type": "code",
   "execution_count": 8,
   "metadata": {},
   "outputs": [
    {
     "name": "stderr",
     "output_type": "stream",
     "text": [
      "/var/folders/35/mj3g4g9952j00j9pwxnzf0fr0000gq/T/ipykernel_32829/1955767780.py:2: UserWarning: Could not infer format, so each element will be parsed individually, falling back to `dateutil`. To ensure parsing is consistent and as-expected, please specify a format.\n",
      "  dataset['Publish Date'] = pd.to_datetime(dataset['Publish Date'], dayfirst=True)\n"
     ]
    }
   ],
   "source": [
    "# Convert 'Publish Date' to datetime format for further calculations\n",
    "dataset['Publish Date'] = pd.to_datetime(dataset['Publish Date'], dayfirst=True)"
   ]
  },
  {
   "cell_type": "code",
   "execution_count": 10,
   "metadata": {},
   "outputs": [
    {
     "name": "stdout",
     "output_type": "stream",
     "text": [
      "<class 'pandas.core.frame.DataFrame'>\n",
      "RangeIndex: 57 entries, 0 to 56\n",
      "Data columns (total 6 columns):\n",
      " #   Column                 Non-Null Count  Dtype         \n",
      "---  ------                 --------------  -----         \n",
      " 0   ticker                 57 non-null     object        \n",
      " 1   recommendation         57 non-null     object        \n",
      " 2   target_duration_years  57 non-null     float64       \n",
      " 3   YouTuber               57 non-null     object        \n",
      " 4   Publish Date           57 non-null     datetime64[ns]\n",
      " 5   Accuracy               57 non-null     float64       \n",
      "dtypes: datetime64[ns](1), float64(2), object(3)\n",
      "memory usage: 2.8+ KB\n"
     ]
    }
   ],
   "source": [
    "dataset.info()"
   ]
  },
  {
   "cell_type": "code",
   "execution_count": 11,
   "metadata": {},
   "outputs": [],
   "source": [
    "dataset[\"ticker\"] = dataset[\"ticker\"].apply(lambda x: x.upper())"
   ]
  },
  {
   "cell_type": "code",
   "execution_count": 12,
   "metadata": {},
   "outputs": [
    {
     "data": {
      "text/html": [
       "<div>\n",
       "<style scoped>\n",
       "    .dataframe tbody tr th:only-of-type {\n",
       "        vertical-align: middle;\n",
       "    }\n",
       "\n",
       "    .dataframe tbody tr th {\n",
       "        vertical-align: top;\n",
       "    }\n",
       "\n",
       "    .dataframe thead th {\n",
       "        text-align: right;\n",
       "    }\n",
       "</style>\n",
       "<table border=\"1\" class=\"dataframe\">\n",
       "  <thead>\n",
       "    <tr style=\"text-align: right;\">\n",
       "      <th></th>\n",
       "      <th>ticker</th>\n",
       "      <th>recommendation</th>\n",
       "      <th>target_duration_years</th>\n",
       "      <th>YouTuber</th>\n",
       "      <th>Publish Date</th>\n",
       "      <th>Accuracy</th>\n",
       "    </tr>\n",
       "  </thead>\n",
       "  <tbody>\n",
       "    <tr>\n",
       "      <th>0</th>\n",
       "      <td>GTBL</td>\n",
       "      <td>buy</td>\n",
       "      <td>3.0</td>\n",
       "      <td>Rahul Jain</td>\n",
       "      <td>2023-07-30</td>\n",
       "      <td>0.64</td>\n",
       "    </tr>\n",
       "    <tr>\n",
       "      <th>1</th>\n",
       "      <td>SBIN</td>\n",
       "      <td>buy</td>\n",
       "      <td>3.0</td>\n",
       "      <td>Rahul Jain</td>\n",
       "      <td>2023-06-18</td>\n",
       "      <td>0.58</td>\n",
       "    </tr>\n",
       "    <tr>\n",
       "      <th>2</th>\n",
       "      <td>ITC</td>\n",
       "      <td>buy</td>\n",
       "      <td>3.0</td>\n",
       "      <td>Rahul Jain</td>\n",
       "      <td>2023-06-18</td>\n",
       "      <td>0.21</td>\n",
       "    </tr>\n",
       "    <tr>\n",
       "      <th>3</th>\n",
       "      <td>TCS</td>\n",
       "      <td>buy</td>\n",
       "      <td>3.0</td>\n",
       "      <td>Rahul Jain</td>\n",
       "      <td>2023-06-18</td>\n",
       "      <td>0.12</td>\n",
       "    </tr>\n",
       "    <tr>\n",
       "      <th>4</th>\n",
       "      <td>TCS</td>\n",
       "      <td>buy</td>\n",
       "      <td>3.0</td>\n",
       "      <td>Rahul Jain</td>\n",
       "      <td>2023-08-09</td>\n",
       "      <td>0.45</td>\n",
       "    </tr>\n",
       "  </tbody>\n",
       "</table>\n",
       "</div>"
      ],
      "text/plain": [
       "  ticker recommendation  target_duration_years    YouTuber Publish Date  \\\n",
       "0   GTBL            buy                    3.0  Rahul Jain   2023-07-30   \n",
       "1   SBIN            buy                    3.0  Rahul Jain   2023-06-18   \n",
       "2    ITC            buy                    3.0  Rahul Jain   2023-06-18   \n",
       "3    TCS            buy                    3.0  Rahul Jain   2023-06-18   \n",
       "4    TCS            buy                    3.0  Rahul Jain   2023-08-09   \n",
       "\n",
       "   Accuracy  \n",
       "0      0.64  \n",
       "1      0.58  \n",
       "2      0.21  \n",
       "3      0.12  \n",
       "4      0.45  "
      ]
     },
     "execution_count": 12,
     "metadata": {},
     "output_type": "execute_result"
    }
   ],
   "source": [
    "dataset.head()"
   ]
  },
  {
   "cell_type": "code",
   "execution_count": null,
   "metadata": {},
   "outputs": [],
   "source": []
  },
  {
   "cell_type": "code",
   "execution_count": null,
   "metadata": {},
   "outputs": [],
   "source": []
  }
 ],
 "metadata": {
  "kernelspec": {
   "display_name": "base",
   "language": "python",
   "name": "python3"
  },
  "language_info": {
   "codemirror_mode": {
    "name": "ipython",
    "version": 3
   },
   "file_extension": ".py",
   "mimetype": "text/x-python",
   "name": "python",
   "nbconvert_exporter": "python",
   "pygments_lexer": "ipython3",
   "version": "3.10.10"
  },
  "orig_nbformat": 4
 },
 "nbformat": 4,
 "nbformat_minor": 2
}
